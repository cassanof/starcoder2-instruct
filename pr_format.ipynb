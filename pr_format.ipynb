{
 "cells": [
  {
   "cell_type": "code",
   "execution_count": 1,
   "id": "0c8cdfa1-aad1-42a2-9f45-92b93a97c036",
   "metadata": {},
   "outputs": [
    {
     "name": "stderr",
     "output_type": "stream",
     "text": [
      "/home/cassano.f/finetuning-harness/.env/lib/python3.10/site-packages/tqdm/auto.py:21: TqdmWarning: IProgress not found. Please update jupyter and ipywidgets. See https://ipywidgets.readthedocs.io/en/stable/user_install.html\n",
      "  from .autonotebook import tqdm as notebook_tqdm\n"
     ]
    }
   ],
   "source": [
    "from transformers import AutoModelForCausalLM, AutoTokenizer"
   ]
  },
  {
   "cell_type": "code",
   "execution_count": 2,
   "id": "af5d61f1-89c1-4895-831b-d178938227da",
   "metadata": {},
   "outputs": [
    {
     "name": "stderr",
     "output_type": "stream",
     "text": [
      "Loading checkpoint shards: 100%|██████████████████████████████████████████████████████████████████████████████████████████████████████████████| 2/2 [00:06<00:00,  3.36s/it]\n"
     ]
    }
   ],
   "source": [
    "import torch\n",
    "name = \"bigcode/starcoder2-7b_base\"\n",
    "model = AutoModelForCausalLM.from_pretrained(name, torch_dtype=torch.bfloat16).cuda()\n",
    "tokenizer = AutoTokenizer.from_pretrained(name)"
   ]
  },
  {
   "cell_type": "code",
   "execution_count": 25,
   "id": "b4e26cf3-91ed-486b-b47c-124a332904ee",
   "metadata": {},
   "outputs": [],
   "source": [
    "def make_prompt(ins, code, title=\"Changes to exercise1\"):\n",
    "    header = f\"\"\"<pr>Title: {title}\n",
    "username_0: This PR resolves the following request.\n",
    "{ins}<pr_status>opened<repo_name>code-editing/python-exercises<pr_base><pr_file>/problems/exercise1.py<pr_base_code>\"\"\"\n",
    "    base_code = f\"\"\"<pr_base_code>{code}<pr_diff><pr_file>/problems/exercise1.py<pr_diff_hunk>\"\"\"\n",
    "    prompt = header + base_code\n",
    "    return prompt\n",
    "\n",
    "code = \"\"\"def add(x, y):\n",
    "    return x + y\"\"\"\n",
    "\n",
    "prompt = make_prompt(\"Add a function called `substract` that subtracts two numbers\", code)\n",
    "toks = tokenizer.encode(prompt, return_tensors=\"pt\").to(model.device)"
   ]
  },
  {
   "cell_type": "code",
   "execution_count": 26,
   "id": "b7efd309-a5f9-4291-acc2-7f1893a6c7fb",
   "metadata": {},
   "outputs": [],
   "source": [
    "import datasets\n",
    "ds = datasets.load_dataset(\"nuprl/CanItEdit\", split=\"test\")"
   ]
  },
  {
   "cell_type": "code",
   "execution_count": 144,
   "id": "8ceb740b-5f7a-418f-9532-ab40c23b1c1f",
   "metadata": {},
   "outputs": [],
   "source": [
    "# 43 is two hunks\n",
    "ex = ds[25]\n",
    "before = ex[\"before\"]\n",
    "ins = ex[\"instruction_descriptive\"]\n",
    "prompt = make_prompt(ins, before)\n",
    "toks = tokenizer.encode(prompt, return_tensors=\"pt\").to(model.device)"
   ]
  },
  {
   "cell_type": "code",
   "execution_count": 145,
   "id": "96836cdb-1327-4e72-af0c-f8b0eea9131e",
   "metadata": {},
   "outputs": [
    {
     "name": "stderr",
     "output_type": "stream",
     "text": [
      "The attention mask and the pad token id were not set. As a consequence, you may observe unexpected behavior. Please pass your input's `attention_mask` to obtain reliable results.\n",
      "Setting `pad_token_id` to `eos_token_id`:49152 for open-end generation.\n"
     ]
    },
    {
     "name": "stdout",
     "output_type": "stream",
     "text": [
      "2407\n",
      "1\n",
      "2000\n"
     ]
    }
   ],
   "source": [
    "outs = model.generate(toks, max_new_tokens=2000, temperature=0, top_p=0.95, do_sample=False)[0]\n",
    "print(len(outs))\n",
    "print(len(toks))\n",
    "outs = outs[len(toks[0]):]\n",
    "print(len(outs))\n",
    "dec = tokenizer.decode(outs)"
   ]
  },
  {
   "cell_type": "code",
   "execution_count": 146,
   "id": "fbabe780-8991-4068-a52a-07829b80ce02",
   "metadata": {},
   "outputs": [],
   "source": [
    "pr_end_toks = [\n",
    "    \"<pr_review>\", \"<pr_comment>\", \"<pr>\", \"<pr_review_comment>\"\n",
    "]\n",
    "# <pr_review>, <pr_comment>, <pr>\n"
   ]
  },
  {
   "cell_type": "code",
   "execution_count": 152,
   "id": "4bc06d06-4c8e-448f-b9f2-261875051569",
   "metadata": {},
   "outputs": [
    {
     "name": "stdout",
     "output_type": "stream",
     "text": [
      "@@ -1,27 +1,32 @@\n",
      " from typing import List\n",
      " \n",
      " class Node:\n",
      "     '''Simple node (No duplicate edges between nodes)'''\n",
      "-    def __init__(self, id: int, out_edges: List[int]):\n",
      "-        uniques = {}\n",
      "-        for edge in out_edges:\n",
      "-            if edge in uniques.keys():\n",
      "-                raise RuntimeError\n",
      "-            else:\n",
      "-                uniques[edge] = True\n",
      "-        self.id = id\n",
      "-        self.in_edges = out_edges\n",
      "+    def __init__(self, id: int, out_edges: List[int]):        \n",
      "+        self.id = id\n",
      "+        self.out_edges = out_edges\n",
      "+        self.in_edges = []\n",
      "+        self.visited = False\n",
      "+        self.finished = False\n",
      "+\n",
      "+    def __repr__(self):\n",
      "+        return f\"Node({self.id}, {self.out_edges})\"\n",
      " \n",
      " class Graph:\n",
      "     '''Simple directed graph (No duplicate edges between nodes, no duplicate nodes)'''\n",
      "-    def __init__(self, nodes: List[Node]):\n",
      "-        uniques = {}\n",
      "-        for node in nodes:\n",
      "-            if node in uniques:\n",
      "-                raise RuntimeError\n",
      "-            else:\n",
      "-                uniques[node] = True\n",
      "-        self.nodes = nodes\n",
      "+    def __init__(self, nodes: List[Node]):        \n",
      "+        self.nodes = nodes\n",
      "+        self.visited = False\n",
      "+        self.finished = False\n",
      "+\n",
      "+    def __repr__(self):\n",
      "+        return f\"Graph({self.nodes})\"\n",
      "     \n",
      "     def find_node(self, id: int):\n",
      "         for node in self.nodes:\n",
      "             if node.id == id:<pr_diff_hunk>@@ -26,6 +31,40 @@\n",
      "         for node in self.nodes:\n",
      "             if node.id == id:\n",
      "                 return node\n",
      "     \n",
      "+    def find_node_by_out_edge(self, id: int):\n",
      "+        for node in self.nodes:\n",
      "+            if id in node.out_edges:\n",
      "+                return node\n",
      "+\n",
      "     def topological_sort(self) -> List[Node]:\n",
      "-        return self.nodes\n",
      "+        if self.visited:\n",
      "+            return self.nodes\n",
      "+        self.visited = True\n",
      "+        for node in self.nodes:\n",
      "+            if not node.visited:\n",
      "+                self.topological_sort_helper(node)\n",
      "+        self.finished = True\n",
      "+        return self.nodes\n",
      "+\n",
      "+    def topological_sort_helper(self, node: Node):\n",
      "+        if not node.visited:\n",
      "+            node.visited = True\n",
      "+            for out_edge in node.out_edges:\n",
      "+                out_node = self.find_node_by_out_edge(out_edge)\n",
      "+                if not out_node.visited:\n",
      "+                    self.topological_sort_helper(out_node)\n",
      "+            node.finished = True\n",
      "+            self.nodes.append(node)\n",
      "+\n",
      "+    def is_acyclic(self):\n",
      "+        if self.finished:\n",
      "+            return True\n",
      "+        for node in self.nodes:\n",
      "+            if not node.finished:\n",
      "+                return False\n",
      "+        return True\n",
      "+\n",
      "+\n",
      "+\n",
      "\n"
     ]
    }
   ],
   "source": [
    "for tok in pr_end_toks:\n",
    "    found = dec.find(tok)\n",
    "    if found != -1:\n",
    "        dec = dec[:found]\n",
    "print(dec)"
   ]
  },
  {
   "cell_type": "code",
   "execution_count": 148,
   "id": "25a387c6-4015-4f88-9ca2-d186d665fab1",
   "metadata": {},
   "outputs": [],
   "source": [
    "hunks = dec.split(\"<pr_diff_hunk>\")"
   ]
  },
  {
   "cell_type": "code",
   "execution_count": 149,
   "id": "23e2d6b9-990b-4d74-bea0-55027246143b",
   "metadata": {},
   "outputs": [
    {
     "name": "stdout",
     "output_type": "stream",
     "text": [
      "@@ -1,27 +1,32 @@\n",
      " from typing import List\n",
      " \n",
      " class Node:\n",
      "     '''Simple node (No duplicate edges between nodes)'''\n",
      "-    def __init__(self, id: int, out_edges: List[int]):\n",
      "-        uniques = {}\n",
      "-        for edge in out_edges:\n",
      "-            if edge in uniques.keys():\n",
      "-                raise RuntimeError\n",
      "-            else:\n",
      "-                uniques[edge] = True\n",
      "-        self.id = id\n",
      "-        self.in_edges = out_edges\n",
      "+    def __init__(self, id: int, out_edges: List[int]):        \n",
      "+        self.id = id\n",
      "+        self.out_edges = out_edges\n",
      "+        self.in_edges = []\n",
      "+        self.visited = False\n",
      "+        self.finished = False\n",
      "+\n",
      "+    def __repr__(self):\n",
      "+        return f\"Node({self.id}, {self.out_edges})\"\n",
      " \n",
      " class Graph:\n",
      "     '''Simple directed graph (No duplicate edges between nodes, no duplicate nodes)'''\n",
      "-    def __init__(self, nodes: List[Node]):\n",
      "-        uniques = {}\n",
      "-        for node in nodes:\n",
      "-            if node in uniques:\n",
      "-                raise RuntimeError\n",
      "-            else:\n",
      "-                uniques[node] = True\n",
      "-        self.nodes = nodes\n",
      "+    def __init__(self, nodes: List[Node]):        \n",
      "+        self.nodes = nodes\n",
      "+        self.visited = False\n",
      "+        self.finished = False\n",
      "+\n",
      "+    def __repr__(self):\n",
      "+        return f\"Graph({self.nodes})\"\n",
      "     \n",
      "     def find_node(self, id: int):\n",
      "         for node in self.nodes:\n",
      "             if node.id == id:\n",
      "@@ -26,6 +31,40 @@\n",
      "         for node in self.nodes:\n",
      "             if node.id == id:\n",
      "                 return node\n",
      "     \n",
      "+    def find_node_by_out_edge(self, id: int):\n",
      "+        for node in self.nodes:\n",
      "+            if id in node.out_edges:\n",
      "+                return node\n",
      "+\n",
      "     def topological_sort(self) -> List[Node]:\n",
      "-        return self.nodes\n",
      "+        if self.visited:\n",
      "+            return self.nodes\n",
      "+        self.visited = True\n",
      "+        for node in self.nodes:\n",
      "+            if not node.visited:\n",
      "+                self.topological_sort_helper(node)\n",
      "+        self.finished = True\n",
      "+        return self.nodes\n",
      "+\n",
      "+    def topological_sort_helper(self, node: Node):\n",
      "+        if not node.visited:\n",
      "+            node.visited = True\n",
      "+            for out_edge in node.out_edges:\n",
      "+                out_node = self.find_node_by_out_edge(out_edge)\n",
      "+                if not out_node.visited:\n",
      "+                    self.topological_sort_helper(out_node)\n",
      "+            node.finished = True\n",
      "+            self.nodes.append(node)\n",
      "+\n",
      "+    def is_acyclic(self):\n",
      "+        if self.finished:\n",
      "+            return True\n",
      "+        for node in self.nodes:\n",
      "+            if not node.finished:\n",
      "+                return False\n",
      "+        return True\n",
      "+\n",
      "+\n",
      "+\n",
      "<pr_review_comment><pr_event_id>453101010<pr_in_reply_to_review_id>446726010<pr_file>problems/exercise1.py<pr_diff_hunk_comment_line>40\n",
      "@@ -2,29 +2,68 @@\n",
      " \n",
      " class Node:\n",
      "     '''Simple node (No duplicate edges between nodes)'''\n",
      "-    def __init__(self, id: int, out_edges: List[int]):\n",
      "-        uniques = {}\n",
      "-        for edge in out_edges:\n",
      "-            if edge in uniques.keys():\n",
      "-                raise RuntimeError\n",
      "-            else:\n",
      "-                uniques[edge] = True\n",
      "-        self.id = id\n",
      "-        self.in_edges = out_edges\n",
      "+    def __init__(self, id: int, out_edges: List[int]):        \n",
      "+        self.id = id\n",
      "+        self.out_edges = out_edges\n",
      "+        self.in_edges = []\n",
      "+        self.visited = False\n",
      "+        self.finished = False\n",
      "+\n",
      "+    def __repr__(self):\n",
      "+        return f\"Node({self.id}, {self.out_edges})\"\n",
      " \n",
      " class Graph:\n",
      "     '''Simple directed graph (No duplicate edges between nodes, no duplicate nodes)'''\n",
      "-    def __init__(self, nodes: List[Node]):\n",
      "-        uniques = {}\n",
      "-        for node in nodes:\n",
      "-            if node in uniques:\n",
      "-                raise RuntimeError\n",
      "-            else:\n",
      "-                uniques[node] = True\n",
      "-        self.nodes = nodes\n",
      "+    def __init__(self, nodes: List[Node]):        \n",
      "+        self.nodes = nodes\n",
      "+        self.visited = False\n",
      "+        self.finished = False\n",
      "+\n",
      "+    def __repr__(self):\n",
      "+        return f\"Graph({self.nodes})\"\n"
     ]
    }
   ],
   "source": [
    "for hunk in hunks:\n",
    "    print(hunk)"
   ]
  },
  {
   "cell_type": "code",
   "execution_count": 150,
   "id": "756d17ee-5b3c-458f-8a78-250f78365b72",
   "metadata": {},
   "outputs": [
    {
     "name": "stdout",
     "output_type": "stream",
     "text": [
      "from typing import List\n",
      "\n",
      "class Node:\n",
      "    '''Simple node (No duplicate edges between nodes)'''\n",
      "    def __init__(self, id: int, out_edges: List[int]):\n",
      "        uniques = {}\n",
      "        for edge in out_edges:\n",
      "            if edge in uniques.keys():\n",
      "                raise RuntimeError\n",
      "            else:\n",
      "                uniques[edge] = True\n",
      "        self.id = id\n",
      "        self.in_edges = out_edges\n",
      "\n",
      "class Graph:\n",
      "    '''Simple directed graph (No duplicate edges between nodes, no duplicate nodes)'''\n",
      "    def __init__(self, nodes: List[Node]):\n",
      "        uniques = {}\n",
      "        for node in nodes:\n",
      "            if node in uniques:\n",
      "                raise RuntimeError\n",
      "            else:\n",
      "                uniques[node] = True\n",
      "        self.nodes = nodes\n",
      "        \n",
      "    def find_node(self, id: int):\n",
      "        for node in self.nodes:\n",
      "            if node.id == id:\n",
      "                return node\n",
      "    \n",
      "    def topological_sort(self) -> List[Node]:\n",
      "        return self.nodes\n"
     ]
    }
   ],
   "source": [
    "print(before)"
   ]
  },
  {
   "cell_type": "code",
   "execution_count": null,
   "id": "8110719d-8b41-46a8-9498-ce50b8584eb6",
   "metadata": {},
   "outputs": [],
   "source": []
  }
 ],
 "metadata": {
  "kernelspec": {
   "display_name": "Python 3 (ipykernel)",
   "language": "python",
   "name": "python3"
  },
  "language_info": {
   "codemirror_mode": {
    "name": "ipython",
    "version": 3
   },
   "file_extension": ".py",
   "mimetype": "text/x-python",
   "name": "python",
   "nbconvert_exporter": "python",
   "pygments_lexer": "ipython3",
   "version": "3.10.12"
  }
 },
 "nbformat": 4,
 "nbformat_minor": 5
}
